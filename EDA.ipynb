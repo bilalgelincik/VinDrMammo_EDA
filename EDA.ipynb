{
 "cells": [
  {
   "cell_type": "code",
   "execution_count": 36,
   "id": "4e606b49-ee97-4863-8abe-a3c6ac7e819f",
   "metadata": {
    "tags": []
   },
   "outputs": [],
   "source": [
    "import pandas as pd\n",
    "import seaborn as sns\n",
    "import matplotlib.pyplot as plt"
   ]
  },
  {
   "cell_type": "markdown",
   "id": "065f70ae-fe2f-4ce0-ac7b-367032798405",
   "metadata": {},
   "source": [
    "#BREAST-LEVEL-ANNOTATIONS EXPLATORY DATA ANALYSIS"
   ]
  },
  {
   "cell_type": "code",
   "execution_count": 37,
   "id": "ba53883e-ada5-4025-97a1-c426930c7e6e",
   "metadata": {
    "tags": []
   },
   "outputs": [
    {
     "data": {
      "text/html": [
       "<div>\n",
       "<style scoped>\n",
       "    .dataframe tbody tr th:only-of-type {\n",
       "        vertical-align: middle;\n",
       "    }\n",
       "\n",
       "    .dataframe tbody tr th {\n",
       "        vertical-align: top;\n",
       "    }\n",
       "\n",
       "    .dataframe thead th {\n",
       "        text-align: right;\n",
       "    }\n",
       "</style>\n",
       "<table border=\"1\" class=\"dataframe\">\n",
       "  <thead>\n",
       "    <tr style=\"text-align: right;\">\n",
       "      <th></th>\n",
       "      <th>study_id</th>\n",
       "      <th>series_id</th>\n",
       "      <th>image_id</th>\n",
       "      <th>laterality</th>\n",
       "      <th>view_position</th>\n",
       "      <th>height</th>\n",
       "      <th>width</th>\n",
       "      <th>breast_birads</th>\n",
       "      <th>breast_density</th>\n",
       "      <th>split</th>\n",
       "    </tr>\n",
       "  </thead>\n",
       "  <tbody>\n",
       "    <tr>\n",
       "      <th>0</th>\n",
       "      <td>b8d273e8601f348d3664778dae0e7e0b</td>\n",
       "      <td>b36517b9cbbcfd286a7ae04f643af97a</td>\n",
       "      <td>d8125545210c08e1b1793a5af6458ee2</td>\n",
       "      <td>L</td>\n",
       "      <td>CC</td>\n",
       "      <td>3518</td>\n",
       "      <td>2800</td>\n",
       "      <td>BI-RADS 2</td>\n",
       "      <td>DENSITY C</td>\n",
       "      <td>training</td>\n",
       "    </tr>\n",
       "    <tr>\n",
       "      <th>1</th>\n",
       "      <td>b8d273e8601f348d3664778dae0e7e0b</td>\n",
       "      <td>b36517b9cbbcfd286a7ae04f643af97a</td>\n",
       "      <td>290c658f4e75a3f83ec78a847414297c</td>\n",
       "      <td>L</td>\n",
       "      <td>MLO</td>\n",
       "      <td>3518</td>\n",
       "      <td>2800</td>\n",
       "      <td>BI-RADS 2</td>\n",
       "      <td>DENSITY C</td>\n",
       "      <td>training</td>\n",
       "    </tr>\n",
       "    <tr>\n",
       "      <th>2</th>\n",
       "      <td>b8d273e8601f348d3664778dae0e7e0b</td>\n",
       "      <td>b36517b9cbbcfd286a7ae04f643af97a</td>\n",
       "      <td>cd0fc7bc53ac632a11643ac4cc91002a</td>\n",
       "      <td>R</td>\n",
       "      <td>CC</td>\n",
       "      <td>3518</td>\n",
       "      <td>2800</td>\n",
       "      <td>BI-RADS 2</td>\n",
       "      <td>DENSITY C</td>\n",
       "      <td>training</td>\n",
       "    </tr>\n",
       "    <tr>\n",
       "      <th>3</th>\n",
       "      <td>b8d273e8601f348d3664778dae0e7e0b</td>\n",
       "      <td>b36517b9cbbcfd286a7ae04f643af97a</td>\n",
       "      <td>71638b1e853799f227492bfb08a01491</td>\n",
       "      <td>R</td>\n",
       "      <td>MLO</td>\n",
       "      <td>3518</td>\n",
       "      <td>2800</td>\n",
       "      <td>BI-RADS 2</td>\n",
       "      <td>DENSITY C</td>\n",
       "      <td>training</td>\n",
       "    </tr>\n",
       "    <tr>\n",
       "      <th>4</th>\n",
       "      <td>8269f5971eaca3e5d3772d1796e6bd7a</td>\n",
       "      <td>d931832a0815df082c085b6e09d20aac</td>\n",
       "      <td>dd9ce3288c0773e006a294188aadba8e</td>\n",
       "      <td>L</td>\n",
       "      <td>CC</td>\n",
       "      <td>3518</td>\n",
       "      <td>2800</td>\n",
       "      <td>BI-RADS 1</td>\n",
       "      <td>DENSITY C</td>\n",
       "      <td>training</td>\n",
       "    </tr>\n",
       "  </tbody>\n",
       "</table>\n",
       "</div>"
      ],
      "text/plain": [
       "                           study_id                         series_id  \\\n",
       "0  b8d273e8601f348d3664778dae0e7e0b  b36517b9cbbcfd286a7ae04f643af97a   \n",
       "1  b8d273e8601f348d3664778dae0e7e0b  b36517b9cbbcfd286a7ae04f643af97a   \n",
       "2  b8d273e8601f348d3664778dae0e7e0b  b36517b9cbbcfd286a7ae04f643af97a   \n",
       "3  b8d273e8601f348d3664778dae0e7e0b  b36517b9cbbcfd286a7ae04f643af97a   \n",
       "4  8269f5971eaca3e5d3772d1796e6bd7a  d931832a0815df082c085b6e09d20aac   \n",
       "\n",
       "                           image_id laterality view_position  height  width  \\\n",
       "0  d8125545210c08e1b1793a5af6458ee2          L            CC    3518   2800   \n",
       "1  290c658f4e75a3f83ec78a847414297c          L           MLO    3518   2800   \n",
       "2  cd0fc7bc53ac632a11643ac4cc91002a          R            CC    3518   2800   \n",
       "3  71638b1e853799f227492bfb08a01491          R           MLO    3518   2800   \n",
       "4  dd9ce3288c0773e006a294188aadba8e          L            CC    3518   2800   \n",
       "\n",
       "  breast_birads breast_density     split  \n",
       "0     BI-RADS 2      DENSITY C  training  \n",
       "1     BI-RADS 2      DENSITY C  training  \n",
       "2     BI-RADS 2      DENSITY C  training  \n",
       "3     BI-RADS 2      DENSITY C  training  \n",
       "4     BI-RADS 1      DENSITY C  training  "
      ]
     },
     "execution_count": 37,
     "metadata": {},
     "output_type": "execute_result"
    }
   ],
   "source": [
    "df=pd.read_csv(\"breast-level_annotations.csv\")\n",
    "df.head()"
   ]
  },
  {
   "cell_type": "code",
   "execution_count": 38,
   "id": "fe4e6247-60ad-49cf-9609-5dae4c8d0a07",
   "metadata": {
    "tags": []
   },
   "outputs": [
    {
     "data": {
      "text/plain": [
       "(20000, 10)"
      ]
     },
     "execution_count": 38,
     "metadata": {},
     "output_type": "execute_result"
    }
   ],
   "source": [
    "df.shape"
   ]
  },
  {
   "cell_type": "code",
   "execution_count": 39,
   "id": "b61e973a-47f1-4503-8578-70bd6c153379",
   "metadata": {
    "tags": []
   },
   "outputs": [
    {
     "data": {
      "text/plain": [
       "study_id          0\n",
       "series_id         0\n",
       "image_id          0\n",
       "laterality        0\n",
       "view_position     0\n",
       "height            0\n",
       "width             0\n",
       "breast_birads     0\n",
       "breast_density    0\n",
       "split             0\n",
       "dtype: int64"
      ]
     },
     "execution_count": 39,
     "metadata": {},
     "output_type": "execute_result"
    }
   ],
   "source": [
    "df.isnull().sum()"
   ]
  },
  {
   "cell_type": "code",
   "execution_count": 40,
   "id": "8476878a-4efb-49d7-8708-270a2c7c9aff",
   "metadata": {
    "tags": []
   },
   "outputs": [
    {
     "data": {
      "text/plain": [
       "study_id           5000\n",
       "series_id          5036\n",
       "image_id          20000\n",
       "laterality            2\n",
       "view_position         2\n",
       "height                3\n",
       "width                58\n",
       "breast_birads         5\n",
       "breast_density        4\n",
       "split                 2\n",
       "dtype: int64"
      ]
     },
     "execution_count": 40,
     "metadata": {},
     "output_type": "execute_result"
    }
   ],
   "source": [
    "df.nunique()"
   ]
  },
  {
   "cell_type": "code",
   "execution_count": 42,
   "id": "0438c0b0-f75a-452c-8e73-f1762ee8af1c",
   "metadata": {
    "tags": []
   },
   "outputs": [
    {
     "data": {
      "text/plain": [
       "breast_birads\n",
       "BI-RADS 1    13406\n",
       "BI-RADS 2     4676\n",
       "BI-RADS 3      930\n",
       "BI-RADS 4      762\n",
       "BI-RADS 5      226\n",
       "Name: count, dtype: int64"
      ]
     },
     "execution_count": 42,
     "metadata": {},
     "output_type": "execute_result"
    }
   ],
   "source": [
    "bı_rads=df[\"breast_birads\"].value_counts()\n",
    "bı_rads"
   ]
  },
  {
   "cell_type": "code",
   "execution_count": 45,
   "id": "41849489-4d65-417c-8154-e25418ce27ba",
   "metadata": {
    "tags": []
   },
   "outputs": [
    {
     "data": {
      "text/plain": [
       "[Text(2, 0, '13406'),\n",
       " Text(2, 0, '4676'),\n",
       " Text(2, 0, '930'),\n",
       " Text(2, 0, '762'),\n",
       " Text(2, 0, '226')]"
      ]
     },
     "execution_count": 45,
     "metadata": {},
     "output_type": "execute_result"
    },
    {
     "data": {
      "image/png": "[encoded data removed]",
      "text/plain": [
       "<Figure size 3000x1800 with 1 Axes>"
      ]
     },
     "metadata": {},
     "output_type": "display_data"
    }
   ],
   "source": [
    "sns.set_theme()\n",
    "sns.set(rc={\"figure.figsize\":(10,6),\"figure.dpi\":300})\n",
    "fig, ax=plt.subplots()\n",
    "ax=sns.barplot(ax=ax, data=df, y=bı_rads.index, x=bı_rads[:])\n",
    "ax.set(ylabel=\"Bi-Rads Kategorisi\",xlabel=\"Adet\",title=\"Veri Setindeki Bi-Rads Kategorilerine Göre Görüntü Dağılımı\")\n",
    "ax.bar_label(ax.containers[0],padding=2)"
   ]
  },
  {
   "cell_type": "markdown",
   "id": "bdf27433-715d-446d-82aa-1342f7ea9933",
   "metadata": {},
   "source": [
    "#FINDING-ANNOTATIONS EXPLATORY DATA ANALYSIS"
   ]
  },
  {
   "cell_type": "code",
   "execution_count": 47,
   "id": "8b9ff8b7-0db1-4779-b69d-c39f24441a21",
   "metadata": {
    "tags": []
   },
   "outputs": [
    {
     "data": {
      "text/html": [
       "<div>\n",
       "<style scoped>\n",
       "    .dataframe tbody tr th:only-of-type {\n",
       "        vertical-align: middle;\n",
       "    }\n",
       "\n",
       "    .dataframe tbody tr th {\n",
       "        vertical-align: top;\n",
       "    }\n",
       "\n",
       "    .dataframe thead th {\n",
       "        text-align: right;\n",
       "    }\n",
       "</style>\n",
       "<table border=\"1\" class=\"dataframe\">\n",
       "  <thead>\n",
       "    <tr style=\"text-align: right;\">\n",
       "      <th></th>\n",
       "      <th>study_id</th>\n",
       "      <th>series_id</th>\n",
       "      <th>image_id</th>\n",
       "      <th>laterality</th>\n",
       "      <th>view_position</th>\n",
       "      <th>height</th>\n",
       "      <th>width</th>\n",
       "      <th>breast_birads</th>\n",
       "      <th>breast_density</th>\n",
       "      <th>finding_categories</th>\n",
       "      <th>finding_birads</th>\n",
       "      <th>xmin</th>\n",
       "      <th>ymin</th>\n",
       "      <th>xmax</th>\n",
       "      <th>ymax</th>\n",
       "      <th>split</th>\n",
       "    </tr>\n",
       "  </thead>\n",
       "  <tbody>\n",
       "    <tr>\n",
       "      <th>0</th>\n",
       "      <td>48575a27b7c992427041a82fa750d3fa</td>\n",
       "      <td>26de4993fa6b8ae50a91c8baf49b92b0</td>\n",
       "      <td>4e3a578fe535ea4f5258d3f7f4419db8</td>\n",
       "      <td>R</td>\n",
       "      <td>CC</td>\n",
       "      <td>3518</td>\n",
       "      <td>2800</td>\n",
       "      <td>BI-RADS 4</td>\n",
       "      <td>DENSITY C</td>\n",
       "      <td>['Mass']</td>\n",
       "      <td>BI-RADS 4</td>\n",
       "      <td>2355.139893</td>\n",
       "      <td>1731.640015</td>\n",
       "      <td>2482.979980</td>\n",
       "      <td>1852.750000</td>\n",
       "      <td>training</td>\n",
       "    </tr>\n",
       "    <tr>\n",
       "      <th>1</th>\n",
       "      <td>48575a27b7c992427041a82fa750d3fa</td>\n",
       "      <td>26de4993fa6b8ae50a91c8baf49b92b0</td>\n",
       "      <td>dac39351b0f3a8c670b7f8dc88029364</td>\n",
       "      <td>R</td>\n",
       "      <td>MLO</td>\n",
       "      <td>3518</td>\n",
       "      <td>2800</td>\n",
       "      <td>BI-RADS 4</td>\n",
       "      <td>DENSITY C</td>\n",
       "      <td>['Mass']</td>\n",
       "      <td>BI-RADS 4</td>\n",
       "      <td>2386.679932</td>\n",
       "      <td>1240.609985</td>\n",
       "      <td>2501.800049</td>\n",
       "      <td>1354.040039</td>\n",
       "      <td>training</td>\n",
       "    </tr>\n",
       "    <tr>\n",
       "      <th>2</th>\n",
       "      <td>75e8e48933289d70b407379a564f8594</td>\n",
       "      <td>853b70e7e6f39133497909d9ca4c756d</td>\n",
       "      <td>c83f780904f25eacb44e9030f32c66e1</td>\n",
       "      <td>R</td>\n",
       "      <td>CC</td>\n",
       "      <td>3518</td>\n",
       "      <td>2800</td>\n",
       "      <td>BI-RADS 3</td>\n",
       "      <td>DENSITY C</td>\n",
       "      <td>['Global Asymmetry']</td>\n",
       "      <td>BI-RADS 3</td>\n",
       "      <td>2279.179932</td>\n",
       "      <td>1166.510010</td>\n",
       "      <td>2704.439941</td>\n",
       "      <td>2184.260010</td>\n",
       "      <td>training</td>\n",
       "    </tr>\n",
       "    <tr>\n",
       "      <th>3</th>\n",
       "      <td>75e8e48933289d70b407379a564f8594</td>\n",
       "      <td>853b70e7e6f39133497909d9ca4c756d</td>\n",
       "      <td>893528bc38a0362928a89364f1b692fd</td>\n",
       "      <td>R</td>\n",
       "      <td>MLO</td>\n",
       "      <td>3518</td>\n",
       "      <td>2800</td>\n",
       "      <td>BI-RADS 3</td>\n",
       "      <td>DENSITY C</td>\n",
       "      <td>['Global Asymmetry']</td>\n",
       "      <td>BI-RADS 3</td>\n",
       "      <td>1954.270020</td>\n",
       "      <td>1443.640015</td>\n",
       "      <td>2589.760010</td>\n",
       "      <td>2193.810059</td>\n",
       "      <td>training</td>\n",
       "    </tr>\n",
       "    <tr>\n",
       "      <th>4</th>\n",
       "      <td>c3487424fee1bdd4515b72dc3fd69813</td>\n",
       "      <td>77619c914263eae44e9099f1ce07192c</td>\n",
       "      <td>318264c881bf12f2c1efe5f93920cc37</td>\n",
       "      <td>R</td>\n",
       "      <td>CC</td>\n",
       "      <td>3518</td>\n",
       "      <td>2800</td>\n",
       "      <td>BI-RADS 4</td>\n",
       "      <td>DENSITY C</td>\n",
       "      <td>['Architectural Distortion']</td>\n",
       "      <td>BI-RADS 4</td>\n",
       "      <td>2172.300049</td>\n",
       "      <td>1967.410034</td>\n",
       "      <td>2388.699951</td>\n",
       "      <td>2147.159912</td>\n",
       "      <td>training</td>\n",
       "    </tr>\n",
       "  </tbody>\n",
       "</table>\n",
       "</div>"
      ],
      "text/plain": [
       "                           study_id                         series_id  \\\n",
       "0  48575a27b7c992427041a82fa750d3fa  26de4993fa6b8ae50a91c8baf49b92b0   \n",
       "1  48575a27b7c992427041a82fa750d3fa  26de4993fa6b8ae50a91c8baf49b92b0   \n",
       "2  75e8e48933289d70b407379a564f8594  853b70e7e6f39133497909d9ca4c756d   \n",
       "3  75e8e48933289d70b407379a564f8594  853b70e7e6f39133497909d9ca4c756d   \n",
       "4  c3487424fee1bdd4515b72dc3fd69813  77619c914263eae44e9099f1ce07192c   \n",
       "\n",
       "                           image_id laterality view_position  height  width  \\\n",
       "0  4e3a578fe535ea4f5258d3f7f4419db8          R            CC    3518   2800   \n",
       "1  dac39351b0f3a8c670b7f8dc88029364          R           MLO    3518   2800   \n",
       "2  c83f780904f25eacb44e9030f32c66e1          R            CC    3518   2800   \n",
       "3  893528bc38a0362928a89364f1b692fd          R           MLO    3518   2800   \n",
       "4  318264c881bf12f2c1efe5f93920cc37          R            CC    3518   2800   \n",
       "\n",
       "  breast_birads breast_density            finding_categories finding_birads  \\\n",
       "0     BI-RADS 4      DENSITY C                      ['Mass']      BI-RADS 4   \n",
       "1     BI-RADS 4      DENSITY C                      ['Mass']      BI-RADS 4   \n",
       "2     BI-RADS 3      DENSITY C          ['Global Asymmetry']      BI-RADS 3   \n",
       "3     BI-RADS 3      DENSITY C          ['Global Asymmetry']      BI-RADS 3   \n",
       "4     BI-RADS 4      DENSITY C  ['Architectural Distortion']      BI-RADS 4   \n",
       "\n",
       "          xmin         ymin         xmax         ymax     split  \n",
       "0  2355.139893  1731.640015  2482.979980  1852.750000  training  \n",
       "1  2386.679932  1240.609985  2501.800049  1354.040039  training  \n",
       "2  2279.179932  1166.510010  2704.439941  2184.260010  training  \n",
       "3  1954.270020  1443.640015  2589.760010  2193.810059  training  \n",
       "4  2172.300049  1967.410034  2388.699951  2147.159912  training  "
      ]
     },
     "execution_count": 47,
     "metadata": {},
     "output_type": "execute_result"
    }
   ],
   "source": [
    "df_2=pd.read_csv(\"finding_annotations.csv\")\n",
    "df_2.head()"
   ]
  },
  {
   "cell_type": "code",
   "execution_count": 48,
   "id": "655c0546-39ea-4a8e-b63f-8455f3533c80",
   "metadata": {
    "tags": []
   },
   "outputs": [
    {
     "data": {
      "text/plain": [
       "(20486, 16)"
      ]
     },
     "execution_count": 48,
     "metadata": {},
     "output_type": "execute_result"
    }
   ],
   "source": [
    "df_2.shape"
   ]
  },
  {
   "cell_type": "code",
   "execution_count": 50,
   "id": "d5f768af-e723-4213-a68a-2f7137650e22",
   "metadata": {
    "tags": []
   },
   "outputs": [
    {
     "data": {
      "text/plain": [
       "study_id                  0\n",
       "series_id                 0\n",
       "image_id                  0\n",
       "laterality                0\n",
       "view_position             0\n",
       "height                    0\n",
       "width                     0\n",
       "breast_birads             0\n",
       "breast_density            0\n",
       "finding_categories        0\n",
       "finding_birads        18357\n",
       "xmin                  18232\n",
       "ymin                  18232\n",
       "xmax                  18232\n",
       "ymax                  18232\n",
       "split                     0\n",
       "dtype: int64"
      ]
     },
     "execution_count": 50,
     "metadata": {},
     "output_type": "execute_result"
    }
   ],
   "source": [
    "df_2.isnull().sum()"
   ]
  },
  {
   "cell_type": "code",
   "execution_count": 71,
   "id": "8045fe65-c495-484f-851a-39e8342d73eb",
   "metadata": {
    "tags": []
   },
   "outputs": [
    {
     "data": {
      "text/plain": [
       "study_id              20486\n",
       "series_id             20486\n",
       "image_id              20486\n",
       "laterality            20486\n",
       "view_position         20486\n",
       "height                20486\n",
       "width                 20486\n",
       "breast_birads         20486\n",
       "breast_density        20486\n",
       "finding_categories    20486\n",
       "finding_birads         2129\n",
       "xmin                   2254\n",
       "ymin                   2254\n",
       "xmax                   2254\n",
       "ymax                   2254\n",
       "split                 20486\n",
       "dtype: int64"
      ]
     },
     "execution_count": 71,
     "metadata": {},
     "output_type": "execute_result"
    }
   ],
   "source": [
    "df_2.notnull().sum()"
   ]
  },
  {
   "cell_type": "code",
   "execution_count": 66,
   "id": "f6a153a5-b1e6-40e6-a585-e73c4ae9d962",
   "metadata": {
    "tags": []
   },
   "outputs": [
    {
     "data": {
      "text/plain": [
       "study_id               5000\n",
       "series_id              5036\n",
       "image_id              20000\n",
       "laterality                2\n",
       "view_position             2\n",
       "height                    3\n",
       "width                    58\n",
       "breast_birads             5\n",
       "breast_density            4\n",
       "finding_categories       35\n",
       "finding_birads            3\n",
       "xmin                   2244\n",
       "ymin                   2241\n",
       "xmax                   2243\n",
       "ymax                   2238\n",
       "split                     2\n",
       "dtype: int64"
      ]
     },
     "execution_count": 66,
     "metadata": {},
     "output_type": "execute_result"
    }
   ],
   "source": [
    "df_2.nunique()"
   ]
  },
  {
   "cell_type": "code",
   "execution_count": 53,
   "id": "7e910994-12bc-4862-b1a0-54258e5daa8f",
   "metadata": {
    "tags": []
   },
   "outputs": [
    {
     "data": {
      "text/plain": [
       "breast_birads\n",
       "BI-RADS 1    13406\n",
       "BI-RADS 2     4664\n",
       "BI-RADS 3      126\n",
       "BI-RADS 4       34\n",
       "BI-RADS 5        2\n",
       "dtype: int64"
      ]
     },
     "execution_count": 53,
     "metadata": {},
     "output_type": "execute_result"
    }
   ],
   "source": [
    "df_2[df_2['xmin'].isnull()].groupby('breast_birads').size() #Veri setindeki Bi-Rads kategorilerine göre sınırlayıcı kutu etiketlenmemiş veri sayısını ifade eder."
   ]
  },
  {
   "cell_type": "code",
   "execution_count": 63,
   "id": "82cf0c61-6cfa-43de-bfae-31c0a4843fdc",
   "metadata": {
    "tags": []
   },
   "outputs": [
    {
     "data": {
      "text/plain": [
       "breast_birads\n",
       "BI-RADS 2     12\n",
       "BI-RADS 3    846\n",
       "BI-RADS 4    971\n",
       "BI-RADS 5    425\n",
       "dtype: int64"
      ]
     },
     "execution_count": 63,
     "metadata": {},
     "output_type": "execute_result"
    }
   ],
   "source": [
    "df_2[df_2['xmin'].notnull()].groupby('breast_birads').size() #Veri setindeki Bi-Rads kategorilerine göre sınırlayıcı kutu etiketli veri sayısını ifade eder."
   ]
  },
  {
   "cell_type": "code",
   "execution_count": 64,
   "id": "dd0ff559-2b71-4f51-8005-c223c419170f",
   "metadata": {
    "tags": []
   },
   "outputs": [
    {
     "data": {
      "text/plain": [
       "finding_categories\n",
       "['Mass']                                                    1123\n",
       "['Suspicious Calcification']                                 402\n",
       "['Focal Asymmetry']                                          232\n",
       "['Architectural Distortion']                                  95\n",
       "['Asymmetry']                                                 90\n",
       "['Suspicious Calcification', 'Mass']                          82\n",
       "['Suspicious Lymph Node']                                     57\n",
       "['Skin Thickening']                                           38\n",
       "['Suspicious Calcification', 'Focal Asymmetry']               31\n",
       "['Global Asymmetry']                                          24\n",
       "['Suspicious Calcification', 'Architectural Distortion']      13\n",
       "['Nipple Retraction']                                         12\n",
       "['Skin Retraction']                                            7\n",
       "['Skin Thickening', 'Nipple Retraction']                       6\n",
       "['Skin Thickening', 'Focal Asymmetry']                         4\n",
       "dtype: int64"
      ]
     },
     "execution_count": 64,
     "metadata": {},
     "output_type": "execute_result"
    }
   ],
   "source": [
    "df_2[df_2['xmin'].notnull()].groupby('finding_categories').size().sort_values(ascending=False).head(15) #Finding kategorilerine göre etiketlenmiş veri adetini ifade eder."
   ]
  },
  {
   "cell_type": "code",
   "execution_count": 29,
   "id": "f2bba192-9e58-495d-af3c-7d2a5062b7bf",
   "metadata": {
    "tags": []
   },
   "outputs": [
    {
     "data": {
      "text/plain": [
       "finding_categories\n",
       "['No Finding']                                              18232\n",
       "['Mass']                                                     1123\n",
       "['Suspicious Calcification']                                  402\n",
       "['Focal Asymmetry']                                           232\n",
       "['Architectural Distortion']                                   95\n",
       "['Asymmetry']                                                  90\n",
       "['Suspicious Calcification', 'Mass']                           82\n",
       "['Suspicious Lymph Node']                                      57\n",
       "['Skin Thickening']                                            38\n",
       "['Suspicious Calcification', 'Focal Asymmetry']                31\n",
       "['Global Asymmetry']                                           24\n",
       "['Suspicious Calcification', 'Architectural Distortion']       13\n",
       "['Nipple Retraction']                                          12\n",
       "['Skin Retraction']                                             7\n",
       "['Skin Thickening', 'Nipple Retraction']                        6\n",
       "Name: count, dtype: int64"
      ]
     },
     "execution_count": 29,
     "metadata": {},
     "output_type": "execute_result"
    }
   ],
   "source": [
    "finding=df[\"finding_categories\"].value_counts().head(15) #Finding kategorileri içerisinde bulunan veri adetini ifade eder.\n",
    "finding"
   ]
  },
  {
   "cell_type": "code",
   "execution_count": 67,
   "id": "ae3fc269-4fc2-4993-8731-86e68de2349f",
   "metadata": {
    "tags": []
   },
   "outputs": [
    {
     "data": {
      "text/html": [
       "<div>\n",
       "<style scoped>\n",
       "    .dataframe tbody tr th:only-of-type {\n",
       "        vertical-align: middle;\n",
       "    }\n",
       "\n",
       "    .dataframe tbody tr th {\n",
       "        vertical-align: top;\n",
       "    }\n",
       "\n",
       "    .dataframe thead th {\n",
       "        text-align: right;\n",
       "    }\n",
       "</style>\n",
       "<table border=\"1\" class=\"dataframe\">\n",
       "  <thead>\n",
       "    <tr style=\"text-align: right;\">\n",
       "      <th></th>\n",
       "      <th>study_id</th>\n",
       "      <th>series_id</th>\n",
       "      <th>image_id</th>\n",
       "      <th>laterality</th>\n",
       "      <th>view_position</th>\n",
       "      <th>height</th>\n",
       "      <th>width</th>\n",
       "      <th>breast_birads</th>\n",
       "      <th>breast_density</th>\n",
       "      <th>finding_categories</th>\n",
       "      <th>finding_birads</th>\n",
       "      <th>xmin</th>\n",
       "      <th>ymin</th>\n",
       "      <th>xmax</th>\n",
       "      <th>ymax</th>\n",
       "      <th>split</th>\n",
       "    </tr>\n",
       "  </thead>\n",
       "  <tbody>\n",
       "    <tr>\n",
       "      <th>0</th>\n",
       "      <td>48575a27b7c992427041a82fa750d3fa</td>\n",
       "      <td>26de4993fa6b8ae50a91c8baf49b92b0</td>\n",
       "      <td>4e3a578fe535ea4f5258d3f7f4419db8</td>\n",
       "      <td>R</td>\n",
       "      <td>CC</td>\n",
       "      <td>3518</td>\n",
       "      <td>2800</td>\n",
       "      <td>BI-RADS 4</td>\n",
       "      <td>DENSITY C</td>\n",
       "      <td>['Mass']</td>\n",
       "      <td>BI-RADS 4</td>\n",
       "      <td>2355.139893</td>\n",
       "      <td>1731.640015</td>\n",
       "      <td>2482.979980</td>\n",
       "      <td>1852.750000</td>\n",
       "      <td>training</td>\n",
       "    </tr>\n",
       "    <tr>\n",
       "      <th>1</th>\n",
       "      <td>48575a27b7c992427041a82fa750d3fa</td>\n",
       "      <td>26de4993fa6b8ae50a91c8baf49b92b0</td>\n",
       "      <td>dac39351b0f3a8c670b7f8dc88029364</td>\n",
       "      <td>R</td>\n",
       "      <td>MLO</td>\n",
       "      <td>3518</td>\n",
       "      <td>2800</td>\n",
       "      <td>BI-RADS 4</td>\n",
       "      <td>DENSITY C</td>\n",
       "      <td>['Mass']</td>\n",
       "      <td>BI-RADS 4</td>\n",
       "      <td>2386.679932</td>\n",
       "      <td>1240.609985</td>\n",
       "      <td>2501.800049</td>\n",
       "      <td>1354.040039</td>\n",
       "      <td>training</td>\n",
       "    </tr>\n",
       "    <tr>\n",
       "      <th>6</th>\n",
       "      <td>5683854eafabc34f6d854000d2ac6c2d</td>\n",
       "      <td>4ac33111294b83d43537cb8604b0808c</td>\n",
       "      <td>2f944efb1cb9579442df2d7fe6a579b7</td>\n",
       "      <td>L</td>\n",
       "      <td>CC</td>\n",
       "      <td>3518</td>\n",
       "      <td>2800</td>\n",
       "      <td>BI-RADS 3</td>\n",
       "      <td>DENSITY C</td>\n",
       "      <td>['Mass']</td>\n",
       "      <td>BI-RADS 3</td>\n",
       "      <td>142.899002</td>\n",
       "      <td>2171.810059</td>\n",
       "      <td>439.584991</td>\n",
       "      <td>2403.370117</td>\n",
       "      <td>test</td>\n",
       "    </tr>\n",
       "    <tr>\n",
       "      <th>7</th>\n",
       "      <td>5683854eafabc34f6d854000d2ac6c2d</td>\n",
       "      <td>4ac33111294b83d43537cb8604b0808c</td>\n",
       "      <td>7385e8cf7b29764525c81de4aa1aebe4</td>\n",
       "      <td>L</td>\n",
       "      <td>MLO</td>\n",
       "      <td>3518</td>\n",
       "      <td>2800</td>\n",
       "      <td>BI-RADS 3</td>\n",
       "      <td>DENSITY C</td>\n",
       "      <td>['Mass']</td>\n",
       "      <td>BI-RADS 3</td>\n",
       "      <td>142.899002</td>\n",
       "      <td>2045.170044</td>\n",
       "      <td>417.876007</td>\n",
       "      <td>2265.879883</td>\n",
       "      <td>test</td>\n",
       "    </tr>\n",
       "    <tr>\n",
       "      <th>10</th>\n",
       "      <td>89524e5f372d9aff8ed43b4ef29c1435</td>\n",
       "      <td>0838a0b906894e0cc06c993426a2d143</td>\n",
       "      <td>5a94dd668eaa9865b907450c37db6ecc</td>\n",
       "      <td>R</td>\n",
       "      <td>CC</td>\n",
       "      <td>3518</td>\n",
       "      <td>2800</td>\n",
       "      <td>BI-RADS 3</td>\n",
       "      <td>DENSITY C</td>\n",
       "      <td>['Mass']</td>\n",
       "      <td>BI-RADS 3</td>\n",
       "      <td>1988.060059</td>\n",
       "      <td>1793.739990</td>\n",
       "      <td>2139.909912</td>\n",
       "      <td>1967.459961</td>\n",
       "      <td>training</td>\n",
       "    </tr>\n",
       "    <tr>\n",
       "      <th>...</th>\n",
       "      <td>...</td>\n",
       "      <td>...</td>\n",
       "      <td>...</td>\n",
       "      <td>...</td>\n",
       "      <td>...</td>\n",
       "      <td>...</td>\n",
       "      <td>...</td>\n",
       "      <td>...</td>\n",
       "      <td>...</td>\n",
       "      <td>...</td>\n",
       "      <td>...</td>\n",
       "      <td>...</td>\n",
       "      <td>...</td>\n",
       "      <td>...</td>\n",
       "      <td>...</td>\n",
       "      <td>...</td>\n",
       "    </tr>\n",
       "    <tr>\n",
       "      <th>2246</th>\n",
       "      <td>b8acac150be7f949f78dc631a3851f8b</td>\n",
       "      <td>f351166fe105bea6f090e38f41bc844c</td>\n",
       "      <td>dbe631b24f8759c7f7022513582c39ba</td>\n",
       "      <td>R</td>\n",
       "      <td>CC</td>\n",
       "      <td>3580</td>\n",
       "      <td>2609</td>\n",
       "      <td>BI-RADS 4</td>\n",
       "      <td>DENSITY C</td>\n",
       "      <td>['Mass']</td>\n",
       "      <td>BI-RADS 4</td>\n",
       "      <td>2173.879883</td>\n",
       "      <td>1673.750000</td>\n",
       "      <td>2333.729980</td>\n",
       "      <td>1825.109985</td>\n",
       "      <td>test</td>\n",
       "    </tr>\n",
       "    <tr>\n",
       "      <th>2247</th>\n",
       "      <td>b8acac150be7f949f78dc631a3851f8b</td>\n",
       "      <td>f351166fe105bea6f090e38f41bc844c</td>\n",
       "      <td>dbe631b24f8759c7f7022513582c39ba</td>\n",
       "      <td>R</td>\n",
       "      <td>CC</td>\n",
       "      <td>3580</td>\n",
       "      <td>2609</td>\n",
       "      <td>BI-RADS 4</td>\n",
       "      <td>DENSITY C</td>\n",
       "      <td>['Mass']</td>\n",
       "      <td>BI-RADS 4</td>\n",
       "      <td>2336.560059</td>\n",
       "      <td>1458.719971</td>\n",
       "      <td>2519.040039</td>\n",
       "      <td>1612.920044</td>\n",
       "      <td>test</td>\n",
       "    </tr>\n",
       "    <tr>\n",
       "      <th>2249</th>\n",
       "      <td>b8acac150be7f949f78dc631a3851f8b</td>\n",
       "      <td>f351166fe105bea6f090e38f41bc844c</td>\n",
       "      <td>bdf1539e07e60cfcb5e7833f5b63fa86</td>\n",
       "      <td>R</td>\n",
       "      <td>MLO</td>\n",
       "      <td>3580</td>\n",
       "      <td>2706</td>\n",
       "      <td>BI-RADS 4</td>\n",
       "      <td>DENSITY C</td>\n",
       "      <td>['Mass']</td>\n",
       "      <td>BI-RADS 4</td>\n",
       "      <td>1959.930054</td>\n",
       "      <td>1535.310059</td>\n",
       "      <td>2110.709961</td>\n",
       "      <td>1707.640015</td>\n",
       "      <td>test</td>\n",
       "    </tr>\n",
       "    <tr>\n",
       "      <th>2250</th>\n",
       "      <td>b8acac150be7f949f78dc631a3851f8b</td>\n",
       "      <td>f351166fe105bea6f090e38f41bc844c</td>\n",
       "      <td>bdf1539e07e60cfcb5e7833f5b63fa86</td>\n",
       "      <td>R</td>\n",
       "      <td>MLO</td>\n",
       "      <td>3580</td>\n",
       "      <td>2706</td>\n",
       "      <td>BI-RADS 4</td>\n",
       "      <td>DENSITY C</td>\n",
       "      <td>['Mass']</td>\n",
       "      <td>BI-RADS 4</td>\n",
       "      <td>1734.920044</td>\n",
       "      <td>2052.899902</td>\n",
       "      <td>2061.189941</td>\n",
       "      <td>2421.520020</td>\n",
       "      <td>test</td>\n",
       "    </tr>\n",
       "    <tr>\n",
       "      <th>2251</th>\n",
       "      <td>b8acac150be7f949f78dc631a3851f8b</td>\n",
       "      <td>f351166fe105bea6f090e38f41bc844c</td>\n",
       "      <td>bdf1539e07e60cfcb5e7833f5b63fa86</td>\n",
       "      <td>R</td>\n",
       "      <td>MLO</td>\n",
       "      <td>3580</td>\n",
       "      <td>2706</td>\n",
       "      <td>BI-RADS 4</td>\n",
       "      <td>DENSITY C</td>\n",
       "      <td>['Mass']</td>\n",
       "      <td>BI-RADS 4</td>\n",
       "      <td>1993.109985</td>\n",
       "      <td>2288.360107</td>\n",
       "      <td>2200.810059</td>\n",
       "      <td>2441.879883</td>\n",
       "      <td>test</td>\n",
       "    </tr>\n",
       "  </tbody>\n",
       "</table>\n",
       "<p>1525 rows × 16 columns</p>\n",
       "</div>"
      ],
      "text/plain": [
       "                              study_id                         series_id  \\\n",
       "0     48575a27b7c992427041a82fa750d3fa  26de4993fa6b8ae50a91c8baf49b92b0   \n",
       "1     48575a27b7c992427041a82fa750d3fa  26de4993fa6b8ae50a91c8baf49b92b0   \n",
       "6     5683854eafabc34f6d854000d2ac6c2d  4ac33111294b83d43537cb8604b0808c   \n",
       "7     5683854eafabc34f6d854000d2ac6c2d  4ac33111294b83d43537cb8604b0808c   \n",
       "10    89524e5f372d9aff8ed43b4ef29c1435  0838a0b906894e0cc06c993426a2d143   \n",
       "...                                ...                               ...   \n",
       "2246  b8acac150be7f949f78dc631a3851f8b  f351166fe105bea6f090e38f41bc844c   \n",
       "2247  b8acac150be7f949f78dc631a3851f8b  f351166fe105bea6f090e38f41bc844c   \n",
       "2249  b8acac150be7f949f78dc631a3851f8b  f351166fe105bea6f090e38f41bc844c   \n",
       "2250  b8acac150be7f949f78dc631a3851f8b  f351166fe105bea6f090e38f41bc844c   \n",
       "2251  b8acac150be7f949f78dc631a3851f8b  f351166fe105bea6f090e38f41bc844c   \n",
       "\n",
       "                              image_id laterality view_position  height  \\\n",
       "0     4e3a578fe535ea4f5258d3f7f4419db8          R            CC    3518   \n",
       "1     dac39351b0f3a8c670b7f8dc88029364          R           MLO    3518   \n",
       "6     2f944efb1cb9579442df2d7fe6a579b7          L            CC    3518   \n",
       "7     7385e8cf7b29764525c81de4aa1aebe4          L           MLO    3518   \n",
       "10    5a94dd668eaa9865b907450c37db6ecc          R            CC    3518   \n",
       "...                                ...        ...           ...     ...   \n",
       "2246  dbe631b24f8759c7f7022513582c39ba          R            CC    3580   \n",
       "2247  dbe631b24f8759c7f7022513582c39ba          R            CC    3580   \n",
       "2249  bdf1539e07e60cfcb5e7833f5b63fa86          R           MLO    3580   \n",
       "2250  bdf1539e07e60cfcb5e7833f5b63fa86          R           MLO    3580   \n",
       "2251  bdf1539e07e60cfcb5e7833f5b63fa86          R           MLO    3580   \n",
       "\n",
       "      width breast_birads breast_density finding_categories finding_birads  \\\n",
       "0      2800     BI-RADS 4      DENSITY C           ['Mass']      BI-RADS 4   \n",
       "1      2800     BI-RADS 4      DENSITY C           ['Mass']      BI-RADS 4   \n",
       "6      2800     BI-RADS 3      DENSITY C           ['Mass']      BI-RADS 3   \n",
       "7      2800     BI-RADS 3      DENSITY C           ['Mass']      BI-RADS 3   \n",
       "10     2800     BI-RADS 3      DENSITY C           ['Mass']      BI-RADS 3   \n",
       "...     ...           ...            ...                ...            ...   \n",
       "2246   2609     BI-RADS 4      DENSITY C           ['Mass']      BI-RADS 4   \n",
       "2247   2609     BI-RADS 4      DENSITY C           ['Mass']      BI-RADS 4   \n",
       "2249   2706     BI-RADS 4      DENSITY C           ['Mass']      BI-RADS 4   \n",
       "2250   2706     BI-RADS 4      DENSITY C           ['Mass']      BI-RADS 4   \n",
       "2251   2706     BI-RADS 4      DENSITY C           ['Mass']      BI-RADS 4   \n",
       "\n",
       "             xmin         ymin         xmax         ymax     split  \n",
       "0     2355.139893  1731.640015  2482.979980  1852.750000  training  \n",
       "1     2386.679932  1240.609985  2501.800049  1354.040039  training  \n",
       "6      142.899002  2171.810059   439.584991  2403.370117      test  \n",
       "7      142.899002  2045.170044   417.876007  2265.879883      test  \n",
       "10    1988.060059  1793.739990  2139.909912  1967.459961  training  \n",
       "...           ...          ...          ...          ...       ...  \n",
       "2246  2173.879883  1673.750000  2333.729980  1825.109985      test  \n",
       "2247  2336.560059  1458.719971  2519.040039  1612.920044      test  \n",
       "2249  1959.930054  1535.310059  2110.709961  1707.640015      test  \n",
       "2250  1734.920044  2052.899902  2061.189941  2421.520020      test  \n",
       "2251  1993.109985  2288.360107  2200.810059  2441.879883      test  \n",
       "\n",
       "[1525 rows x 16 columns]"
      ]
     },
     "execution_count": 67,
     "metadata": {},
     "output_type": "execute_result"
    }
   ],
   "source": [
    "df_2[((df_2[\"breast_birads\"]!= \"BI-RADS 1\") & (df_2[\"xmin\"].isnull() == False)) & ((df_2[\"finding_categories\"]== \"['Mass']\") | (df_2[\"finding_categories\"]== \"['Suspicious Calcification']\"))]"
   ]
  },
  {
   "cell_type": "code",
   "execution_count": 70,
   "id": "4c3ecdd2-9278-4d56-b26a-958c4ba288e0",
   "metadata": {
    "tags": []
   },
   "outputs": [
    {
     "data": {
      "text/plain": [
       "study_id               647\n",
       "series_id              659\n",
       "image_id              1255\n",
       "laterality               2\n",
       "view_position            2\n",
       "height                   3\n",
       "width                   25\n",
       "breast_birads            3\n",
       "breast_density           4\n",
       "finding_categories       2\n",
       "finding_birads           3\n",
       "xmin                  1518\n",
       "ymin                  1516\n",
       "xmax                  1523\n",
       "ymax                  1515\n",
       "split                    2\n",
       "dtype: int64"
      ]
     },
     "execution_count": 70,
     "metadata": {},
     "output_type": "execute_result"
    }
   ],
   "source": [
    "df_2[(df_2[\"finding_categories\"]== \"['Mass']\") | (df_2[\"finding_categories\"]== \"['Suspicious Calcification']\")].nunique() #Mass ve şüpheli kalsifikasyona ait etiketlenen benzersiz görüntü sayısını ifade eder."
   ]
  },
  {
   "cell_type": "code",
   "execution_count": null,
   "id": "cbb0c069-55f1-4695-9aa8-cf2c587f0417",
   "metadata": {},
   "outputs": [],
   "source": []
  }
 ],
 "metadata": {
  "kernelspec": {
   "display_name": "Python 3 (ipykernel)",
   "language": "python",
   "name": "python3"
  },
  "language_info": {
   "codemirror_mode": {
    "name": "ipython",
    "version": 3
   },
   "file_extension": ".py",
   "mimetype": "text/x-python",
   "name": "python",
   "nbconvert_exporter": "python",
   "pygments_lexer": "ipython3",
   "version": "3.11.5"
  }
 },
 "nbformat": 4,
 "nbformat_minor": 5
}
